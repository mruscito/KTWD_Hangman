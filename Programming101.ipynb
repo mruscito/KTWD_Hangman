{
 "cells": [
  {
   "cell_type": "markdown",
   "metadata": {},
   "source": [
    "We are going to code a game of Hangman in python. If you do not have any coding experince, that's okay! To get started, we are going to do a little activiy. Let's write a function called 'greet' that simply tells the world hello.\n",
    "    \n",
    "If you have any questions throughout this workshop, do not be afraid to ask any of the volunteers. They are here to help you and answer any questions, no matter how silly they may seem.\n",
    "    \n",
    "Begin by defining your function. In python, we do this by writing \"def \" followed by the name of your function and then paranthesis and a colon like this \"():\". In the cell down below you can see an example (ignore the #, this makes the computer ignore that line of code).\n",
    "    \n",
    "    Following the format of the example function below, write your own function titled \"greet\" and then hit enter.\n",
    "\n",
    "If you did this correctly, you will have noticed some of the words change colors and your cursor shoud be indented on the second line. This is where we are going to write what our funtion does.\n",
    "    \n",
    "Our function, greet, is going to print to the monitor the words \"Hello World\". To do this, we are going to define a variable called greeting. Variables are just like in math. To define one, we simply name the variable, and then make it equal to something.\n",
    "    \n",
    "For example, I can say that bananas = \"yellow\". In this example, bananas is my variable, and \"yellow\" is my value.\n",
    "\n",
    "    On the second line of your code, make a variable called greeting equal to \"Hello World\" (include the quotes). \n",
    "    \n",
    "Finally, we want to print our greeting to the monitor. To do this we use another function that python already has called \"print()\". Pretty simple. However unlike before, we need to put something inside the paranthesis called arguments. print() spits out whatever argument we put into the parenthesis, so for our function, we need it to spit back out our greeting.\n",
    "    \n",
    "    On the third line, use the function print() to print greeting.\n",
    "\n",
    "Now we just need to run our function.\n",
    "\n",
    "    Click on the run button in the cell you created your function in, then click it again when the second cell is highlighted that says \"greet()\". Do NOT change the contents of that cell, or your function will not execute properly.\n",
    "\n",
    "Here is the list of steps to follow for this activity:\n",
    "1. Following the format of the example function below, write your own function titled \"greet\" and then hit enter.\n",
    "2. On the second line of your code, make a variable called greeting equal to \"Hello World\" (include the quotes).\n",
    "3. On the third line, use the function print() to print greeting.\n",
    "4. Click on the run button in the cell you created your function in, then click it again when the second cell is highlighted that says \"greet()\". Do NOT change the contents of that cell, or your function will not execute properly."
   ]
  },
  {
   "cell_type": "code",
   "execution_count": 1,
   "metadata": {},
   "outputs": [],
   "source": [
    "# def function():\n",
    "\n"
   ]
  },
  {
   "cell_type": "code",
   "execution_count": 2,
   "metadata": {},
   "outputs": [
    {
     "name": "stdout",
     "output_type": "stream",
     "text": [
      "Hello World\n"
     ]
    }
   ],
   "source": [
    "# Do NOT edit the contents of this cell\n",
    "\n",
    "greet()"
   ]
  },
  {
   "cell_type": "markdown",
   "metadata": {},
   "source": [
    "Great Job! Now that you are officially a programmer, let's start making game of Hangman.\n",
    "\n",
    "Before we can create our game of hangman, we need to import the module that contains the functions we are going to use. To import our hangman module, simply run the cell below."
   ]
  },
  {
   "cell_type": "code",
   "execution_count": 3,
   "metadata": {},
   "outputs": [
    {
     "name": "stdout",
     "output_type": "stream",
     "text": [
      "pygame 1.9.6\n",
      "Hello from the pygame community. https://www.pygame.org/contribute.html\n"
     ]
    }
   ],
   "source": [
    "# Do NOT edit the contents of this cell\n",
    "\n",
    "from hangman import Hangman as hm"
   ]
  },
  {
   "cell_type": "markdown",
   "metadata": {},
   "source": [
    "As you may have noticed when we imported our module, we imported it \"as hm\" meaning we named our module \"hm\". Now, whenever we want to run a function from this module, we need to say \"hm.<function>\". Let's test out that we imported our module correctly by running a funtion called \"test()\".\n",
    "    \n",
    "1. In the cell below, run the function \"test()\" from the hangman module. Use the command \"hm.test()\"."
   ]
  },
  {
   "cell_type": "code",
   "execution_count": 4,
   "metadata": {},
   "outputs": [
    {
     "name": "stdout",
     "output_type": "stream",
     "text": [
      "You imported the Hangman module correctly!\n"
     ]
    }
   ],
   "source": [
    "\n",
    "\n"
   ]
  },
  {
   "cell_type": "markdown",
   "metadata": {},
   "source": [
    "Now that we have our Hangman module, let's begin making our game.\n",
    "\n",
    "The first thing we need to do when we start a game of hangman is think of the word we are going to play with.\n",
    "\n",
    "1. Create a variable called \"word\" in the cell below and set it equal to any word. Make sure to put the word you choose in quotation marks."
   ]
  },
  {
   "cell_type": "code",
   "execution_count": 5,
   "metadata": {},
   "outputs": [],
   "source": [
    "\n",
    "\n"
   ]
  },
  {
   "cell_type": "markdown",
   "metadata": {},
   "source": [
    "Now we have our variable for word, but what if we didn't want to know the word and let the computer decide it for us so we can play too? Use the \"random_word()\" function from the hangman module to take care of this for us.\n",
    "\n",
    "1. In the cell below, change the variable word to hm.random_word(). We do not need to use quotation marks this time. It's okay that the variable \"word\" is defined twice, the computer is only going to care about the second one.\n",
    "2. Then run the cell below that but do NOT edit the contents of that cell"
   ]
  },
  {
   "cell_type": "code",
   "execution_count": 6,
   "metadata": {},
   "outputs": [],
   "source": [
    "\n",
    "\n"
   ]
  },
  {
   "cell_type": "code",
   "execution_count": 7,
   "metadata": {},
   "outputs": [],
   "source": [
    "# do NOT edit the contents of this cell\n",
    "# Run this cell after the ones above it\n",
    "\n",
    "letters = list(word)"
   ]
  },
  {
   "cell_type": "markdown",
   "metadata": {},
   "source": [
    "Now that we have the variable word, we need to create the other variables we are going to use. Since we are making a game, we want it to have some color. Make a few variables for different colors that you want to use using RGB codes. There are a few examples in the cell below, and if you want to use them, simply delete the \"# \" in front of them, if you don't do this then the computer cannot use it. Otherwise you can look up your own RGB color codes if you don't like the ones we included.\n",
    "\n",
    "1. Create variables for any colors you want to use in our game, or delete the \"# \" in front of the colors provided and then run the cell."
   ]
  },
  {
   "cell_type": "code",
   "execution_count": 8,
   "metadata": {},
   "outputs": [],
   "source": [
    "# black = (0, 0, 0)\n",
    "# red = (255, 0, 0)\n",
    "# green = (50, 205, 50)\n",
    "# blue = (0, 0, 255)\n",
    "# yellow = (255, 255, 0)\n",
    "# purple = (148 ,0, 211)"
   ]
  },
  {
   "cell_type": "markdown",
   "metadata": {},
   "source": [
    "Great Job! Now that we have variables, let's start drawing our game. We are going to create a function called \"draw_display()\". This function is going to draw all the parts of the display for our game.\n",
    "\n",
    "    Start by defining your function \"draw_display()\" the same way you made your function \"greet()\" at the beginning of this activity. Do not forget to include a colon at the end of the line.\n",
    "\n",
    "The first thing we should draw for any game of hangman, is the noose and a title. Again we will use a function for this called \"draw_noose()\". This function draws a noose as well as the title on the top of the page that says \"Hangman\". It takes an optional argument called \"color\" which determines the color we draw the title.\n",
    "\n",
    "    Using one of your color variables you made earlier, put hm.draw_noose(<color>) inside of your function draw_display. An example of this could be \"hm.draw_noose(black)\" and the title at the top of the page will be drawn in black.\n",
    "\n",
    "After we make a title and draw the noose, we need to make dashes to be the blank spaces for our word. The function for this is called \"draw_dashes()\" and takes the argument \"word\". It needs this argument so that the computer can know how many blank spaces it needs to draw. For example, the word \"dog\" only needs 3 spaces, but the word \"banana\" needs 6 spaces. Since we are using a random word and we do not know what it is, we can just write \"word\" without the quotation marks as an argument and the computer will use the variable we created earlier.\n",
    "\n",
    "    Use the function to draw dashes with the argument for word inside your draw_display() function.\n",
    "\n",
    "Now the entire display for our game should be drawn and that is it for our funtion draw_display(). Here is the list of steps to follow in the next cell:\n",
    "\n",
    "1. Start by defining your function \"draw_display()\" the same way you made your function \"greet()\" at the beginning of this activity. Do not forget to include a colon at the end of the line.\n",
    "2. Using one of your color variables you made earlier, put hm.draw_noose(<color>) inside of your function draw_display. An example of this could be \"hm.draw_noose(black)\" and the title at the top of the page will be drawn in black.\n",
    "3. Use the function to draw dashes with the argument for word inside your draw_display() function.\n",
    "4. Run the cell, but we should not see any output."
   ]
  },
  {
   "cell_type": "code",
   "execution_count": 9,
   "metadata": {},
   "outputs": [],
   "source": [
    "\n"
   ]
  },
  {
   "cell_type": "markdown",
   "metadata": {},
   "source": [
    "Now that everything is set up to play the game, lets create the functions for us to play. The first thing we need to do is write a function so that when we guess a letter, the computer can check if the guess was correct or not. In the next cell, fill in the parts that the comments tell you to, but do NOT edit anything already written in the cell.\n",
    "\n",
    "We will call this function \"check_guess()\". This funtion will take 6 arguments, \"word\", letter\", \"guess\", wrong_guesses\", \"color1\", and \"color2\" (without the quotes). Do not worry that we haven't made all these variables yet, we will do that later. There is an example of how to define a function that takes multiple arguments in the comments of the cell below.\n",
    "\n",
    "The arguments need to be in the order: word, letters, guess, wrong_guesses, color1, color2. \"color1\" and \"color2\" are going to be the color that we write the letters in. \"color1\" is for when we guess a correct letter, and \"color2\" is for an incorrect guess. For now, just leave them as \"color1\" and \"color2\". We will choose specific colors later.\n",
    "\n",
    "    Using the same method we did before, define a function called \"check_guess()\" that takes the arguments \"word\", \"letters\", \"guess\", \"wrong_guesses\", \"color1\", and \"color2\" (without the quotes) in that order.\n",
    "\n",
    "Now skip over the part of the code that it says not to edit until you see the second section that says \"correct guess\". Here we are going to tell the computer what to do when we make a correct guess.\n",
    "\n",
    "The first thing we need to do is use the function \"correct_guess()\" from the hangman module (do not forget to include \"hm.\"). This function takes 5 arguments, \"word\", \"guess\", \"letters\", and \"color1\".\n",
    "\n",
    "Then we need to update the variable \"correct\" to be equal to \"True\" (without the quotes. The word \"True\" will turn bold and green if done properly.\n",
    "\n",
    "    Under the section that says \"correct guess\", use the correct_guess function from the hangman module with all 5 arguments in order, and then update the variable \"correct\" to be equal to True.\n",
    "\n",
    "Once again skip the next section until you see the part that says \"wrong guess\". Here we need to use the function \"wrong_guess()\" from the hangman module. It takes only 3 arguments this time, \"guess\", \"wrong_guesses\", and \"color2\".\n",
    "\n",
    "    Under the section that says \"wrong guess\", use the wrong_guess() function from the hangman module with the 3 arguments in order.\n",
    "\n",
    "Once you have completed all of that, run the cell. Here is the list of steps to follow in the next cell:\n",
    "1. Using the same method we did before, define a function called \"check_guess()\" that takes the arguments \"word\", \"letters\", \"guess\", \"wrong_guesses\", \"color1\", and \"color2\" (without the quotes) in that order.\n",
    "2. Under the section that says \"correct guess\", use the correct_guess function from the hangman module with all 5 arguments in order, and then update the variable \"correct\" to be equal to True.\n",
    "3. Under the section that says \"wrong guess\", use the wrong_guess() function from the hangman module with the 3 arguments in order.\n",
    "4. Run the cell"
   ]
  },
  {
   "cell_type": "code",
   "execution_count": 10,
   "metadata": {},
   "outputs": [],
   "source": [
    "# def example(argument1, argument2, argument3):\n",
    "\n",
    "# 1. define your function here:\n",
    "\n",
    "    \n",
    "    # do NOT edit this part\n",
    "    correct = False\n",
    "    for letter in word:\n",
    "        if guess == letter:\n",
    "            \n",
    "            # 2. correct guess\n",
    "            \n",
    "\n",
    "            \n",
    "    # do NOT edit this part\n",
    "    if not correct:\n",
    "        wrong_guesses += 1\n",
    "        \n",
    "        # 3. wrong guess\n",
    "        \n",
    "    \n",
    "    # do NOT edit this part\n",
    "    return wrong_guesses"
   ]
  },
  {
   "cell_type": "markdown",
   "metadata": {},
   "source": [
    "Now we should have functions that initialize our game, open a main menu, draw our game, and check our guesses. We are in the final stretch. Now we need to make the code for the actual game. To do this, we will define a function called game_loop(). This part is long and can get confusing, so if you get stuck or need help, be sure to ask any of the volunteers.\n",
    "\n",
    "    Define a function called \"game_loop()\" that doesn't take any arguments.\n",
    "\n",
    "Now we need to make some variables that are going to be used in the game loop. We need to make a variable to tell us when the game is over, so we will call it game_over and set it initially equal to False.\n",
    "\n",
    "    Create a variable called \"game_over\" and set it equal to False. If done correctly, then the word \"False\" will turn bold and green.\n",
    "\n",
    "Then we need a variable to count the number of wrong guesses, called \"wrong_guesses\". We want this number to start off at 0 when we start the game.\n",
    "\n",
    "    Create a variable called \"wrong_guesses\" and set it equal to \"0\" (without the quotes).\n",
    "\n",
    "Now we have to consider a situation, what if we guess a letter, and then later on in the game we guess that same letter again? We don't want to count this second guess, and we need the computer to ignore it, so we will create a *list* of all our previous guesses, called \"old_guesses\".\n",
    "\n",
    "    Create a variable called \"old_guesses\" and set it equal to \"[]\" (without the quotes). This type of variable is called a list.\n",
    "\n",
    "Finally we have all our variables initalized, so we can create the game logic. To begin, we will write a loop called a \"while loop\". We want the game to keep running until the game is over, so we will say \"while not game_over:\".\n",
    "\n",
    "    Make a while loop for when the game is not over by saying \"while not game_over:\". Do NOT forget the colon at the end of the line. When you hit enter, the next line should be indented automatically.\n",
    "\n",
    "Once our game starts and we are in the main loop, we want the computer to wait for the user to press a key. We can accomplish this easily using the function from the hangman module called \"key_press()\". We want to set whatever key is pressed to a variable called \"guess\".\n",
    "\n",
    "    Create a variable called \"guess\" and set it equal to the output from the function \"key_press()\" (don't forget the \"hm.\" at the beginning of the function).\n",
    "\n",
    "Once we have a guess from the user, we want to check that it is a new guess and not one we have already tried. To do this we will once again create a variable this time called \"new_guess\" and set that equal to the output from the hangman function \"previous_guess()\" which takes the arguments \"guess\", and \"old_guesses\".\n",
    "\n",
    "    Create a variable called \"new_guess\" and set it equal to the output of the function \"previous_guess()\" (don't forget the \"hm.\") which takes the arguments \"guess\", and \"old_guesses\".\n",
    "\n",
    "Now we want to rememeber this new guess, so we will add it to our old guesses.\n",
    "\n",
    "    Write \"old_guesses.append(guess)\". This tells the computer to add the guess to our list of old guesses.\n",
    "\n",
    "Now we need to make another conditional statement, this time an \"if statement\". It's called this becuase it starts with a conditional statement \"if\". So we want to say if the guess we made was in fact a new guess.\n",
    "\n",
    "    Make an if statement, saying \"if new_guess:\". Do not forget the colon at the end of the line.\n",
    "\n",
    "Now it is time to check the guess. We are going to use the function we made previously called \"check_guess()\" which took the arguments \"word\", \"letters\", \"guess\", \"wrong_guesses\", \"color1\", \"color2\" and set it equal to the variable \"wrong_guesses\". However, this time instead of writing \"color1\" and \"color2\", put in one of the color variables you created earlier. \"color1\" will be for correct letters, and \"color2\" for incorrect. If you do not include any colors, then they will be written in black.\n",
    "\n",
    "    Update the variable \"wrong_guesses\" to be equal to the output of \"check_guess()\" (you do not need to put the \"hm.\" this time) which takes the arguments \"word\", \"letters\", \"guess\", \"wrong_guesses\", \"color1\", and \"color2\" (but use 2 colors of your choice for the color arguments).\n",
    "\n",
    "Now we need to check if the game is over because we either won or lost. We are going to update the variable game_over to be equal to the output of the hangman function \"gameover()\" which takes the arguments \"word\", \"letters\", and \"wrong_guesses\".\n",
    "\n",
    "    Update the variable \"game_over\" to be equal to the hangman function (beginning with \"hm.\") \"gameover()\" which takes the arguments \"word\", \"letters\", and \"wrong_guesses\"\n",
    "\n",
    "That's it! We made our game loop. Here is the list of steps to follow in the next cell:\n",
    "1. Define a function called \"game_loop()\" that doesn't take any arguments.\n",
    "2. Create a variable called\" game_over\" and set it equal to False. If done correctly, then the word \"False\" will turn bold and green.\n",
    "3. Create a variable called \"wrong_guesses\" and set it equal to \"0\" (without the quotes).\n",
    "4. Create a variable called \"old_guesses\" and set it equal to \"[]\" (without the quotes). This type of variable is called a list.\n",
    "5. Make a while loop for when the game is not over by saying \"while not game_over:\". Do NOT forget the colon at the end of the line. When you hit enter, the next line should be indented automatically.\n",
    "6. Create a variable called \"guess\" and set it equal to the output from the function \"key_press()\" (don't forget the \"hm.\" at the beginning of the function).\n",
    "7. Create a variable called \"new_guess\" and set it equal to the output of the function \"previous_guess()\" (don't forget the \"hm.\") which takes the arguments \"guess\", and \"old_guesses\".\n",
    "8. Write \"old_guesses.append(guess)\". This tells the computer to add the guess to our list of old guesses.\n",
    "9. Make an if statement, saying \"if new_guess:\". Do not forget the colon at the end of the line.\n",
    "10. Update the variable \"wrong_guesses\" to be equal to the output of \"check_guess()\" (you do not need to put the \"hm.\" this time) which takes the arguments \"word\", \"letters\", \"guess\", \"wrong_guesses\", \"color1\", and \"color2\" (but use 2 colors of your choice for the color arguments).\n",
    "11. Update the variable \"game_over\" to be equal to the hangman function (beginning with \"hm.\") \"gameover()\" which takes the arguments \"word\", \"letters\", and \"wrong_guesses\"\n",
    "12. Run the cell"
   ]
  },
  {
   "cell_type": "code",
   "execution_count": 11,
   "metadata": {},
   "outputs": [],
   "source": [
    "\n",
    "    "
   ]
  },
  {
   "cell_type": "markdown",
   "metadata": {},
   "source": [
    "Now the last thing to do is create the game logic and run it. This is just going to beour functions that. We want to always run until we close it, so we will write \"while True:\"\n",
    "\n",
    "    Create a while loop by writing \"while True:\". If done correctly, the word \"True\" will turn bold and green. Do NOT forget the colon at the end of the line.\n",
    "\n",
    "Like most computer programs, the first thing we need to do is initialize our game. This is easy using the hangman module, because it has a funtion called \"initialize()\".\n",
    "\n",
    "    Use the function initialize() from the hangman module. Don't forget to include \"hm.\" at the beginning of the function.\n",
    "\n",
    "Once we have our game initialized, we will create our main menu. Once again, the hangman module comes with a main menu function specific for Intel Kid To Work Day called \"main_menu()\".\n",
    "\n",
    "    On the next line, call the main_menu() function from the hangman module.\n",
    "\n",
    "Now we need to draw our display, which we already created a function for called \"draw_display()\".\n",
    "\n",
    "    Call our function \"draw_display()\" (do NOT include \"hm.\" at the beginning).\n",
    "\n",
    "Now we need to run the main loop which we called \"game_loop()\".\n",
    "\n",
    "    Call our function \"game_loop()\" (do NOT include \"hm.\" at the beginning).\n",
    "    \n",
    "Lastly we want to include the option to play again which is built into the hangman module using the function \"play_again()\".\n",
    "\n",
    "    Call the \"play_again()\" function from the hangman module (with \"hm.\" at the beginning).\n",
    "\n",
    "Here is the list of steps to follow in the next cell:\n",
    "1. Create a while loop by writing \"while True:\". If done correctly, the word \"True\" will turn bold and green. Do NOT forget the colon at the end of the line.\n",
    "2. Use the function initialize() from the hangman module. Don't forget to include \"hm.\" at the beginning of the function.\n",
    "3. On the next line, call the main_menu() function from the hangman module.\n",
    "4. Call our function \"draw_display()\" (do NOT include \"hm.\" at the beginning).\n",
    "5. Call our function \"game_loop()\" (do NOT include \"hm.\" at the beginning).\n",
    "6. Call the \"play_again()\" function from the hangman module (with \"hm.\" at the beginning).\n",
    "7. Run the cell. You will likely run into a lot of issues and now get to learn how to debug a program. If you are having issues, ask a volunteer for help, but each time you want to run the program, you need to go to the \"Kernel\" tab and hit \"Restart and Run All\".\n",
    "8. Have fun playing Hangman"
   ]
  },
  {
   "cell_type": "code",
   "execution_count": 12,
   "metadata": {},
   "outputs": [
    {
     "ename": "SystemExit",
     "evalue": "",
     "output_type": "error",
     "traceback": [
      "An exception has occurred, use %tb to see the full traceback.\n",
      "\u001b[1;31mSystemExit\u001b[0m\n"
     ]
    },
    {
     "name": "stderr",
     "output_type": "stream",
     "text": [
      "c:\\users\\mruscito\\appdata\\local\\programs\\python\\python37-32\\lib\\site-packages\\IPython\\core\\interactiveshell.py:3304: UserWarning: To exit: use 'exit', 'quit', or Ctrl-D.\n",
      "  warn(\"To exit: use 'exit', 'quit', or Ctrl-D.\", stacklevel=1)\n"
     ]
    }
   ],
   "source": []
  },
  {
   "cell_type": "markdown",
   "metadata": {},
   "source": [
    "Congratulations! You have successfully written your own computer program in python to play Hangman. Now that you made your own, feel free to run the cell below to play with a slightly altered version of your code that changes the word each time. Delete the \"# \" at the start of the line and then run the cell."
   ]
  },
  {
   "cell_type": "code",
   "execution_count": 13,
   "metadata": {},
   "outputs": [
    {
     "ename": "SystemExit",
     "evalue": "",
     "output_type": "error",
     "traceback": [
      "An exception has occurred, use %tb to see the full traceback.\n",
      "\u001b[1;31mSystemExit\u001b[0m\n"
     ]
    }
   ],
   "source": [
    "# import KTWD_Hangman"
   ]
  }
 ],
 "metadata": {
  "kernelspec": {
   "display_name": "Python 3",
   "language": "python",
   "name": "python3"
  },
  "language_info": {
   "codemirror_mode": {
    "name": "ipython",
    "version": 3
   },
   "file_extension": ".py",
   "mimetype": "text/x-python",
   "name": "python",
   "nbconvert_exporter": "python",
   "pygments_lexer": "ipython3",
   "version": "3.7.3"
  }
 },
 "nbformat": 4,
 "nbformat_minor": 2
}

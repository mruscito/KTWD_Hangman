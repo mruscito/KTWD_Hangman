{
 "cells": [
  {
   "cell_type": "markdown",
   "metadata": {},
   "source": [
    "We are going to code a game of Hangman in python. If you do not have any coding experince, that's okay! To get started, we are going to do a little activiy. Let's write a function called 'greet' that simply tells the world hello.\n",
    "    \n",
    "If you have any questions throughout this workshop, do not be afraid to ask any of the volunteers. They are here to help you and answer any questions, no matter how silly they may seem.\n",
    "    \n",
    "Begin by defining your function. In python, we do this by writing \"def \" followed by the name of your function and the paranthesis and a colon like this \"():\". In the comment down below you can see an example (ignore the #, this makes the computer ignore that line of code).\n",
    "    \n",
    "1. Following the format of the example function below, write your own function titled \"greet\" and then hit enter.\n",
    "\n",
    "If you did this correctly, you will have noticed some of the words change colors and your cursor shoud be indented on the second line. This is where we are going to write what our funtion does.\n",
    "    \n",
    "Our function, greet, is going to print to the monitor the words \"Hello World\". To do this, we are going to define a variable called greeting. Variables are just like in math. To define one, we simply name the variable, and then make it equal to something.\n",
    "    \n",
    "For example, I can say that bananas = \"yellow\". In this example, bananas is my variable, and \"yellow\" is my value.\n",
    "\n",
    "2. On the second line of your code, make a variable greeting equal to \"Hello World\" (include the quotes). \n",
    "    \n",
    "Finally, we was to print our greeting to the monitor. To do this we use another function that python already has called \"print()\". Pretty simple. However unlike before, we need to put something inside the paranthesis. print() spits out whatever we put into the parenthesis, so for our function, we need it to spit back out our greeting.\n",
    "    \n",
    "3. On the third line, use the function print() to print greeting.\n",
    "\n",
    "Now we just need to run our function.\n",
    "\n",
    "4. Click on the run button in the cell you created your function in, then click it again when the second cell is highlighted that says \"greet()\". Do NOT change the contents of that cell, or your function will not execute properly.\n",
    "\n",
    "    Here is the list of steps to follow for this activity:\n",
    "1. Following the format of the example function below, write your own function titled \"greet\" and then hit enter.\n",
    "2. On the second line of your code, make a variable greeting equal to \"Hello World\" (include the quotes).\n",
    "3. On the third line, use the function print() to print greeting.\n",
    "4. Click on the run button in the cell you created your function in, then click it again when the second cell is highlighted that says \"greet()\". Do NOT change the contents of that cell, or your function will not execute properly."
   ]
  },
  {
   "cell_type": "code",
   "execution_count": 1,
   "metadata": {},
   "outputs": [
    {
     "data": {
      "text/plain": [
       "\"\\ndef greet():\\n    greeting = 'Hello World'\\n    print(greeting)\\n\""
      ]
     },
     "execution_count": 1,
     "metadata": {},
     "output_type": "execute_result"
    }
   ],
   "source": [
    "# def function():\n",
    "'''\n",
    "def greet():\n",
    "    greeting = 'Hello World'\n",
    "    print(greeting)\n",
    "'''"
   ]
  },
  {
   "cell_type": "code",
   "execution_count": 2,
   "metadata": {},
   "outputs": [
    {
     "ename": "NameError",
     "evalue": "name 'greet' is not defined",
     "output_type": "error",
     "traceback": [
      "\u001b[1;31m---------------------------------------------------------------------------\u001b[0m",
      "\u001b[1;31mNameError\u001b[0m                                 Traceback (most recent call last)",
      "\u001b[1;32m<ipython-input-2-46441807287c>\u001b[0m in \u001b[0;36m<module>\u001b[1;34m\u001b[0m\n\u001b[0;32m      1\u001b[0m \u001b[1;31m# Do NOT edit the contents of this cell\u001b[0m\u001b[1;33m\u001b[0m\u001b[1;33m\u001b[0m\u001b[1;33m\u001b[0m\u001b[0m\n\u001b[1;32m----> 2\u001b[1;33m \u001b[0mgreet\u001b[0m\u001b[1;33m(\u001b[0m\u001b[1;33m)\u001b[0m\u001b[1;33m\u001b[0m\u001b[1;33m\u001b[0m\u001b[0m\n\u001b[0m",
      "\u001b[1;31mNameError\u001b[0m: name 'greet' is not defined"
     ]
    }
   ],
   "source": [
    "# Do NOT edit the contents of this cell\n",
    "greet()"
   ]
  },
  {
   "cell_type": "markdown",
   "metadata": {},
   "source": [
    "Great Job! Now that you are officially a programmer, let's start making game of Hangman."
   ]
  },
  {
   "cell_type": "code",
   "execution_count": null,
   "metadata": {},
   "outputs": [],
   "source": []
  }
 ],
 "metadata": {
  "kernelspec": {
   "display_name": "Python 3",
   "language": "python",
   "name": "python3"
  },
  "language_info": {
   "codemirror_mode": {
    "name": "ipython",
    "version": 3
   },
   "file_extension": ".py",
   "mimetype": "text/x-python",
   "name": "python",
   "nbconvert_exporter": "python",
   "pygments_lexer": "ipython3",
   "version": "3.7.3"
  }
 },
 "nbformat": 4,
 "nbformat_minor": 2
}
